{
 "cells": [
  {
   "cell_type": "markdown",
   "metadata": {},
   "source": [
    "<h1 style=\"color:DodgerBlue\">Индивидальный проект</h1>"
   ]
  },
  {
   "cell_type": "markdown",
   "metadata": {},
   "source": [
    "<h2 style=\"color:DodgerBlue\">Название проекта:</h2>\n",
    "\n",
    "----\n",
    "\n",
    "### Вариант задания 2\n"
   ]
  },
  {
   "cell_type": "markdown",
   "metadata": {},
   "source": [
    "<h2 style=\"color:DodgerBlue\">Описание проекта:</h2>\n",
    "\n",
    "----\n",
    "\n",
    "Создать базовый класс Student в C#, который будет представлять информацию о студентах. На основе этого класса разработать 2-3 производных класса, демонстрирующих принципы наследования и полиморфизма. В каждом из классов должны быть реализованы новые атрибуты и методы, а также переопределены некоторые методы базового класса для демонстрации полиморфизма.\n",
    "\n",
    "Требования к базовому классу Student:\n",
    "\n",
    " Атрибуты: Имя (Name), Возраст (Age), Курс (Course).\n",
    "\n",
    " Методы:\n",
    "\n",
    " GetInfo(): метод для получения информации о студенте в виде строки.\n",
    "\n",
    " Study(): метод для вывода сообщения о том, что студент учится.\n",
    "\n",
    " TakeExam(): метод для вывода сообщения о сдаче экзамена.\n",
    "\n",
    "Требования к производным классам:\n",
    "\n",
    "1. Студент бакалавриата (BachelorStudent): Должен содержать дополнительные\n",
    "атрибуты, такие как Специальность (Specialty). Метод Study() должен быть\n",
    "переопределен для добавления информации о специальности при изучении\n",
    "предмета.\n",
    "2. Студент магистратуры (MasterStudent): Должен содержать дополнительные\n",
    "атрибуты, такие как Научный руководитель (ScientificAdvisor).\n",
    "Метод TakeExam() должен быть переопределен для добавления\n",
    "информации о научном руководителе при сдаче экзамена.\n",
    "3. Аспирант (PhDStudent) (если требуется третий класс): Должен содержать\n",
    "дополнительные атрибуты, такие как Тема диссертации (DissertationTopic).\n",
    "Метод Study() должен быть переопределен для добавления информации о\n",
    "теме диссертации при изучении предмета.\n"
   ]
  },
  {
   "cell_type": "markdown",
   "metadata": {},
   "source": [
    "<h2 style=\"color:DodgerBlue\">Реализация:</h2>\n",
    "\n",
    "----"
   ]
  },
  {
   "cell_type": "code",
   "execution_count": null,
   "metadata": {
    "dotnet_interactive": {
     "language": "csharp"
    },
    "polyglot_notebook": {
     "kernelName": "csharp"
    }
   },
   "outputs": [
    {
     "name": "stdout",
     "output_type": "stream",
     "text": [
      "Студент: Иван, Возраст: 19, Курс: 2\n",
      "Иван изучает дисциплины по специальности: Информатика\n",
      "Студент: Мария, Возраст: 23, Курс: 5\n",
      "Мария сдаёт экзамен под руководством научного руководителя: Проф. Сидоров\n",
      "Студент: Алексей, Возраст: 27, Курс: 6\n",
      "Алексей работает над диссертацией: Искусственный интеллект\n",
      "Некорректный возраст!\n",
      "Некорректный курс!\n",
      "Имя не может быть пустым!\n"
     ]
    }
   ],
   "source": [
    "public class Student\n",
    "{\n",
    "    private string name;\n",
    "    private int age;\n",
    "    private int course;\n",
    "\n",
    "    public string Name\n",
    "    {\n",
    "        get { return name; }\n",
    "        set\n",
    "        {\n",
    "            if (!string.IsNullOrWhiteSpace(value))\n",
    "                name = value;\n",
    "            else\n",
    "                Console.WriteLine(\"Имя не может быть пустым!\");\n",
    "        }\n",
    "    }\n",
    "\n",
    "    public int Age\n",
    "    {\n",
    "        get { return age; }\n",
    "        set\n",
    "        {\n",
    "            if (value > 0 && value < 120)\n",
    "                age = value;\n",
    "            else\n",
    "                Console.WriteLine(\"Некорректный возраст!\");\n",
    "        }\n",
    "    }\n",
    "\n",
    "    public int Course\n",
    "    {\n",
    "        get { return course; }\n",
    "        set\n",
    "        {\n",
    "            if (value > 0 && value <= 6)\n",
    "                course = value;\n",
    "            else\n",
    "                Console.WriteLine(\"Некорректный курс!\");\n",
    "        }\n",
    "    }\n",
    "\n",
    "    public Student(string name, int age, int course)\n",
    "    {\n",
    "        Name = name;\n",
    "        Age = age;\n",
    "        Course = course;\n",
    "    }\n",
    "\n",
    "    public virtual void GetInfo()\n",
    "    {\n",
    "        Console.WriteLine($\"Студент: {Name}, Возраст: {Age}, Курс: {Course}\");\n",
    "    }\n",
    "\n",
    "    public virtual void Study()\n",
    "    {\n",
    "        Console.WriteLine($\"{Name} учится на курсе {Course}\");\n",
    "    }\n",
    "\n",
    "    public virtual void TakeExam()\n",
    "    {\n",
    "        Console.WriteLine($\"{Name} сдаёт экзамен\");\n",
    "    }\n",
    "}\n",
    "\n",
    "class BachelorStudent : Student\n",
    "{\n",
    "    public string Specialty { get; set; }\n",
    "\n",
    "    public BachelorStudent(string name, int age, int course, string specialty)\n",
    "        : base(name, age, course)\n",
    "    {\n",
    "        Specialty = specialty;\n",
    "    }\n",
    "\n",
    "    public override void Study()\n",
    "    {\n",
    "        Console.WriteLine($\"{Name} изучает дисциплины по специальности: {Specialty}\");\n",
    "    }\n",
    "}\n",
    "\n",
    "class MasterStudent : Student\n",
    "{\n",
    "    public string ScientificAdvisor { get; set; }\n",
    "\n",
    "    public MasterStudent(string name, int age, int course, string advisor)\n",
    "        : base(name, age, course)\n",
    "    {\n",
    "        ScientificAdvisor = advisor;\n",
    "    }\n",
    "\n",
    "    public override void TakeExam()\n",
    "    {\n",
    "        Console.WriteLine($\"{Name} сдаёт экзамен под руководством научного руководителя: {ScientificAdvisor}\");\n",
    "    }\n",
    "}\n",
    "\n",
    "class PhDStudent : Student\n",
    "{\n",
    "    public string DissertationTopic { get; set; }\n",
    "\n",
    "    public PhDStudent(string name, int age, int course, string topic)\n",
    "        : base(name, age, course)\n",
    "    {\n",
    "        DissertationTopic = topic;\n",
    "    }\n",
    "\n",
    "    public override void Study()\n",
    "    {\n",
    "        Console.WriteLine($\"{Name} работает над диссертацией: {DissertationTopic}\");\n",
    "    }\n",
    "}\n",
    "\n",
    "        Student s1 = new BachelorStudent(\"Иван\", 19, 2, \"Информатика\");\n",
    "        Student s2 = new MasterStudent(\"Мария\", 23, 5, \"Проф. Сидоров\");\n",
    "        Student s3 = new PhDStudent(\"Алексей\", 27, 6, \"Искусственный интеллект\");\n",
    "\n",
    "        s1.GetInfo();\n",
    "        s1.Study();\n",
    "\n",
    "        s2.GetInfo();\n",
    "        s2.TakeExam();\n",
    "\n",
    "        s3.GetInfo();\n",
    "        s3.Study();\n",
    "\n",
    "\n"
   ]
  }
 ],
 "metadata": {
  "kernelspec": {
   "display_name": ".NET (C#)",
   "language": "C#",
   "name": ".net-csharp"
  },
  "polyglot_notebook": {
   "kernelInfo": {
    "defaultKernelName": "csharp",
    "items": [
     {
      "aliases": [],
      "languageName": "csharp",
      "name": "csharp"
     }
    ]
   }
  }
 },
 "nbformat": 4,
 "nbformat_minor": 2
}
