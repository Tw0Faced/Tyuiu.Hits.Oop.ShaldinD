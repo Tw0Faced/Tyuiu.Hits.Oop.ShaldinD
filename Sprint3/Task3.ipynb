{
 "cells": [
  {
   "cell_type": "markdown",
   "metadata": {},
   "source": [
    "<h1 style=\"color:DodgerBlue\">Индивидальный проект</h1>"
   ]
  },
  {
   "cell_type": "markdown",
   "metadata": {},
   "source": [
    "<h2 style=\"color:DodgerBlue\">Название проекта:</h2>\n",
    "\n",
    "----\n",
    "\n",
    "### Вариант задания \n"
   ]
  },
  {
   "cell_type": "markdown",
   "metadata": {},
   "source": [
    "<h2 style=\"color:DodgerBlue\">Описание проекта:</h2>\n",
    "\n",
    "----\n",
    "\n",
    "[ваш текст]\n",
    "\n",
    "#### Дополнительное задание\n",
    "Добавьте к сущестующим классам (базовыму и производным 3-4 атрибута и метода) и реализуйте полиморфизм с перекрытием и прегегрузкой методов, а также generic классы"
   ]
  },
  {
   "cell_type": "markdown",
   "metadata": {},
   "source": [
    "<h2 style=\"color:DodgerBlue\">Реализация:</h2>\n",
    "\n",
    "----"
   ]
  },
  {
   "cell_type": "code",
   "execution_count": null,
   "metadata": {
    "dotnet_interactive": {
     "language": "csharp"
    },
    "polyglot_notebook": {
     "kernelName": "csharp"
    }
   },
   "outputs": [],
   "source": [
    "public class Student\n",
    "{\n",
    "    public string Name { get; set; }\n",
    "    public int Age { get; set; }\n",
    "    public int Course { get; set; }\n",
    "    public string Gender { get; set; }\n",
    "    public string University { get; set; }\n",
    "    public double AverageGrade { get; set; }\n",
    "    public string Faculty { get; set; }\n",
    "    public int Credits { get; set; }\n",
    "    public bool IsOnScholarship { get; set; }\n",
    "    public string Email { get; set; }\n",
    "\n",
    "    public Student(string name, int age, int course, string gender, string university, double averageGrade,\n",
    "                   string faculty, int credits, bool isOnScholarship, string email)\n",
    "    {\n",
    "        Name = name;\n",
    "        Age = age;\n",
    "        Course = course;\n",
    "        Gender = gender;\n",
    "        University = university;\n",
    "        AverageGrade = averageGrade;\n",
    "        Faculty = faculty;\n",
    "        Credits = credits;\n",
    "        IsOnScholarship = isOnScholarship;\n",
    "        Email = email;\n",
    "    }\n",
    "\n",
    "    public virtual void GetInfo()\n",
    "    {\n",
    "        Console.WriteLine($\"Студент: {Name}\");\n",
    "        Console.WriteLine($\"Возраст: {Age}, Пол: {Gender}\");\n",
    "        Console.WriteLine($\"Курс: {Course}, Университет: {University}, Факультет: {Faculty}\");\n",
    "        Console.WriteLine($\"Средний балл: {AverageGrade}, Стипендия: {(IsOnScholarship ? \"Да\" : \"Нет\")}\");\n",
    "    }\n",
    "\n",
    "    public virtual void Study()\n",
    "    {\n",
    "        Console.WriteLine($\"{Name} учится в университете {University}\");\n",
    "    }\n",
    "\n",
    "    public void Study(string subject)\n",
    "    {\n",
    "        Console.WriteLine($\"{Name} изучает предмет: {subject}\");\n",
    "    }\n",
    "\n",
    "    public void Study(string subject, int hours)\n",
    "    {\n",
    "        Console.WriteLine($\"{Name} изучает предмет {subject} в течение {hours} часов в неделю\");\n",
    "    }\n",
    "\n",
    "    public virtual void TakeExam()\n",
    "    {\n",
    "        Console.WriteLine($\"{Name} сдаёт экзамен по курсу {Course}\");\n",
    "    }\n",
    "    public void CheckAttendance(int attendedClasses, int totalClasses)\n",
    "    {\n",
    "        double attendanceRate = (double)attendedClasses / totalClasses * 100;\n",
    "        Console.WriteLine($\"{Name}: посещаемость — {attendanceRate:F1}%\");\n",
    "    }\n",
    "}\n",
    "class BachelorStudent : Student\n",
    "{\n",
    "    public string Specialty{ get; set; }\n",
    "    public string Curator { get; set; }\n",
    "    public bool HasPractice { get; set; }\n",
    "    public string DromRoom { get; set; }\n",
    "\n",
    "    public BachelorStudent(string name, int age, int course, string gender, string university, double averageGrade,\n",
    "                           string faculty, int credits, bool IsOnScholarship, string email, string specialty, string curator, bool hasPractice, string dromRoom) : base(\n",
    "                            name, age, course, gender, university, averageGrade, faculty, credits, IsOnScholarship, email)\n",
    "                            {\n",
    "                                Specialty = specialty;\n",
    "                                Curator = curator;\n",
    "                                HasPractice = hasPractice;\n",
    "                                DromRoom = dromRoom;\n",
    "                            }\n",
    "    \n",
    "    public override void Study()\n",
    "    {\n",
    "        Console.WriteLine($\"{Name} изучает предметы по специальности: {Specialty}\");\n",
    "    }\n",
    "\n",
    "    public void DoInternship()\n",
    "    {\n",
    "        Console.WriteLine($\"{Name} {(HasPractice ? \"есть\" : \"нет\")}\");\n",
    "    }\n",
    "}\n",
    "\n",
    "class MasterStudent : Student\n",
    "{\n",
    "    public string ScientificAdvisor { get; set; }\n",
    "    public string ResearchArea { get; set; }\n",
    "    public bool IsWorkingOnThesis { get; set; }\n",
    "    public string LabName { get; set; }\n",
    "\n",
    "    public MasterStudent(string name, int age, int course, string gender, string university, double averageGrade,\n",
    "                           string faculty, int credits, string email, string advisor, string researchArea, bool isOnScholarship, string labName) : base(\n",
    "                            name, age, course, gender, university, averageGrade, faculty, credits, isOnScholarship, email\n",
    "                           )\n",
    "                           {\n",
    "                            ScientificAdvisor = advisor;\n",
    "                            ResearchArea = researchArea;\n",
    "                            IsWorkingOnThesis = isWorkingOnThesis;\n",
    "                            LabName = labName;\n",
    "                           }\n",
    "    \n",
    "}\n"
   ]
  }
 ],
 "metadata": {
  "kernelspec": {
   "display_name": ".NET (C#)",
   "language": "C#",
   "name": ".net-csharp"
  },
  "polyglot_notebook": {
   "kernelInfo": {
    "defaultKernelName": "csharp",
    "items": [
     {
      "aliases": [],
      "languageName": "csharp",
      "name": "csharp"
     }
    ]
   }
  }
 },
 "nbformat": 4,
 "nbformat_minor": 2
}
